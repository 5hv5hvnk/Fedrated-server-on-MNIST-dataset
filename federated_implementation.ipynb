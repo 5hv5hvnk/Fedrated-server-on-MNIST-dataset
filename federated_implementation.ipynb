{
  "nbformat": 4,
  "nbformat_minor": 0,
  "metadata": {
    "colab": {
      "name": "federated_implementation.ipynb",
      "provenance": []
    },
    "kernelspec": {
      "name": "python3",
      "display_name": "Python 3"
    },
    "language_info": {
      "name": "python"
    }
  },
  "cells": [
    {
      "cell_type": "code",
      "metadata": {
        "id": "3L1hudPzx2Bg"
      },
      "source": [
        "import numpy as np\n",
        "import random\n",
        "import cv2\n",
        "import os\n",
        "from imutils import paths\n",
        "from sklearn.model_selection import train_test_split\n",
        "from sklearn.preprocessing import LabelBinarizer\n",
        "from sklearn.model_selection import train_test_split\n",
        "from sklearn.utils import shuffle\n",
        "from sklearn.metrics import accuracy_score"
      ],
      "execution_count": 4,
      "outputs": []
    },
    {
      "cell_type": "code",
      "metadata": {
        "id": "3RUn8G33ks3m"
      },
      "source": [
        "import tensorflow as tf\n",
        "from tensorflow.keras.models import Sequential\n",
        "from tensorflow.keras.layers import Conv2D\n",
        "from tensorflow.keras.layers import MaxPooling2D\n",
        "from tensorflow.keras.layers import Activation\n",
        "from tensorflow.keras.layers import Flatten\n",
        "from tensorflow.keras.layers import Dense\n",
        "from tensorflow.keras.optimizers import SGD\n",
        "from tensorflow.keras import backend as K"
      ],
      "execution_count": 5,
      "outputs": []
    },
    {
      "cell_type": "code",
      "metadata": {
        "id": "3D2rRAjvkvI8"
      },
      "source": [
        "def load(paths, verbose=-1):\n",
        "    data = list()\n",
        "    labels = list()\n",
        "    for (i, imgpath) in enumerate(paths):\n",
        "        im_gray = cv2.imread(imgpath, cv2.IMREAD_GRAYSCALE)\n",
        "        image = np.array(im_gray).flatten()\n",
        "        label = imgpath.split(os.path.sep)[-2]\n",
        "        data.append(image/255)\n",
        "        labels.append(label)\n",
        "        if verbose > 0 and i > 0 and (i + 1) % verbose == 0:\n",
        "            print(i + 1, len(paths))\n",
        "    return data, labels"
      ],
      "execution_count": 6,
      "outputs": []
    },
    {
      "cell_type": "code",
      "metadata": {
        "colab": {
          "base_uri": "https://localhost:8080/"
        },
        "id": "z7gJfZlnlIIE",
        "outputId": "b1a7fa8f-bbba-4855-e73f-af5020de986e"
      },
      "source": [
        "img_path = '/content/archive/trainingSet/trainingSet/'\n",
        "\n",
        "image_paths = list(paths.list_images(img_path))\n",
        "image_list, label_list = load(image_paths, verbose=7000)\n",
        "lb = LabelBinarizer()\n",
        "label_list = lb.fit_transform(label_list)\n",
        "X_train, X_test, y_train, y_test = train_test_split(image_list, \n",
        "                                                    label_list, \n",
        "                                                    test_size=0.1, \n",
        "                                                    random_state=42)"
      ],
      "execution_count": 8,
      "outputs": [
        {
          "output_type": "stream",
          "name": "stdout",
          "text": [
            "7000 42000\n",
            "14000 42000\n",
            "21000 42000\n",
            "28000 42000\n",
            "35000 42000\n",
            "42000 42000\n"
          ]
        }
      ]
    },
    {
      "cell_type": "code",
      "metadata": {
        "id": "jT9T4OshrwsH"
      },
      "source": [
        "def create_clients(image_list, label_list, num_clients=10, initial='clients'):\n",
        "    client_names = ['{}_{}'.format(initial, i+1) for i in range(num_clients)]\n",
        "    data = list(zip(image_list, label_list))\n",
        "    random.shuffle(data)\n",
        "    size = len(data)//num_clients\n",
        "    shards = [data[i:i + size] for i in range(0, size*num_clients, size)]\n",
        "    assert(len(shards) == len(client_names))\n",
        "\n",
        "    return {client_names[i] : shards[i] for i in range(len(client_names))} "
      ],
      "execution_count": 9,
      "outputs": []
    },
    {
      "cell_type": "code",
      "metadata": {
        "id": "GsBwHuMSsm8w"
      },
      "source": [
        "clients = create_clients(X_train, y_train, num_clients=10, initial='client')"
      ],
      "execution_count": 10,
      "outputs": []
    },
    {
      "cell_type": "code",
      "metadata": {
        "id": "4p6sb3ENspl7"
      },
      "source": [
        "def batch_data(data_shard, bs=32):\n",
        "    data, label = zip(*data_shard)\n",
        "    dataset = tf.data.Dataset.from_tensor_slices((list(data), list(label)))\n",
        "    return dataset.shuffle(len(label)).batch(bs)"
      ],
      "execution_count": 11,
      "outputs": []
    },
    {
      "cell_type": "code",
      "metadata": {
        "id": "cJZlHSsvssxQ"
      },
      "source": [
        "clients_batched = dict()\n",
        "for (client_name, data) in clients.items():\n",
        "    clients_batched[client_name] = batch_data(data)\n",
        "test_batched = tf.data.Dataset.from_tensor_slices((X_test, y_test)).batch(len(y_test))"
      ],
      "execution_count": 12,
      "outputs": []
    },
    {
      "cell_type": "code",
      "metadata": {
        "id": "MjyOeG4dszty"
      },
      "source": [
        "class SimpleMLP:\n",
        "    @staticmethod\n",
        "    def build(shape, classes):\n",
        "        model = Sequential()\n",
        "        model.add(Dense(200, input_shape=(shape,)))\n",
        "        model.add(Activation(\"relu\"))\n",
        "        model.add(Dense(200))\n",
        "        model.add(Activation(\"relu\"))\n",
        "        model.add(Dense(classes))\n",
        "        model.add(Activation(\"softmax\"))\n",
        "        return model"
      ],
      "execution_count": 13,
      "outputs": []
    },
    {
      "cell_type": "code",
      "metadata": {
        "id": "-kdGKXvLs2R_"
      },
      "source": [
        "lr = 0.01 \n",
        "comms_round = 100\n",
        "loss='categorical_crossentropy'\n",
        "metrics = ['accuracy']\n",
        "optimizer = SGD(learning_rate=lr, decay=lr / comms_round, momentum=0.9)"
      ],
      "execution_count": 15,
      "outputs": []
    },
    {
      "cell_type": "code",
      "metadata": {
        "id": "cpYAsPLOs8cH"
      },
      "source": [
        "def weight_scalling_factor(clients_trn_data, client_name):\n",
        "    client_names = list(clients_trn_data.keys())\n",
        "    bs = list(clients_trn_data[client_name])[0][0].shape[0]\n",
        "    global_count = sum([tf.data.experimental.cardinality(clients_trn_data[client_name]).numpy() for client_name in client_names])*bs\n",
        "    local_count = tf.data.experimental.cardinality(clients_trn_data[client_name]).numpy()*bs\n",
        "    return local_count/global_count\n",
        "\n",
        "\n",
        "def sum_scaled_weights(scaled_weight_list):\n",
        "    avg_grad = list()\n",
        "    for grad_list_tuple in zip(*scaled_weight_list):\n",
        "        layer_mean = tf.math.reduce_sum(grad_list_tuple, axis=0)\n",
        "        avg_grad.append(layer_mean)\n",
        "    return avg_grad"
      ],
      "execution_count": 21,
      "outputs": []
    },
    {
      "cell_type": "code",
      "metadata": {
        "id": "ZXlD-EaDtpSB"
      },
      "source": [
        "def scale_model_weights(weight, scalar):\n",
        "    weight_final = []\n",
        "    steps = len(weight)\n",
        "    for i in range(steps):\n",
        "        weight_final.append(scalar * weight[i])\n",
        "    return weight_final"
      ],
      "execution_count": 17,
      "outputs": []
    },
    {
      "cell_type": "code",
      "metadata": {
        "id": "ASBETwLvtpeE"
      },
      "source": [
        "def test_model(X_test, Y_test,  model, comm_round):\n",
        "    cce = tf.keras.losses.CategoricalCrossentropy(from_logits=True)\n",
        "    #logits = model.predict(X_test, batch_size=100)\n",
        "    logits = model.predict(X_test)\n",
        "    loss = cce(Y_test, logits)\n",
        "    acc = accuracy_score(tf.argmax(logits, axis=1), tf.argmax(Y_test, axis=1))\n",
        "    print('comm_round: {} | global_acc: {:.3%} | global_loss: {}'.format(comm_round, acc, loss))\n",
        "    return acc, loss"
      ],
      "execution_count": 18,
      "outputs": []
    },
    {
      "cell_type": "code",
      "metadata": {
        "colab": {
          "base_uri": "https://localhost:8080/"
        },
        "id": "wP-BT4jattCC",
        "outputId": "f545ae72-2670-434c-8a28-0e1178d59422"
      },
      "source": [
        "smlp_global = SimpleMLP()\n",
        "global_model = smlp_global.build(784, 10)\n",
        "for comm_round in range(comms_round):\n",
        "    global_weights = global_model.get_weights()\n",
        "    scaled_local_weight_list = list()\n",
        "    client_names= list(clients_batched.keys())\n",
        "    random.shuffle(client_names)\n",
        "    for client in client_names:\n",
        "        smlp_local = SimpleMLP()\n",
        "        local_model = smlp_local.build(784, 10)\n",
        "        local_model.compile(loss=loss, \n",
        "                      optimizer=optimizer, \n",
        "                      metrics=metrics)\n",
        "        local_model.set_weights(global_weights)\n",
        "        \n",
        "        local_model.fit(clients_batched[client], epochs=1, verbose=0)\n",
        "        scaling_factor = weight_scalling_factor(clients_batched, client)\n",
        "        scaled_weights = scale_model_weights(local_model.get_weights(), scaling_factor)\n",
        "        scaled_local_weight_list.append(scaled_weights)\n",
        "        K.clear_session()\n",
        "    average_weights = sum_scaled_weights(scaled_local_weight_list)\n",
        "\n",
        "    global_model.set_weights(average_weights)\n",
        "    for(X_test, Y_test) in test_batched:\n",
        "        global_acc, global_loss = test_model(X_test, Y_test, global_model, comm_round)"
      ],
      "execution_count": 22,
      "outputs": [
        {
          "output_type": "stream",
          "name": "stdout",
          "text": [
            "comm_round: 0 | global_acc: 87.905% | global_loss: 1.6915663480758667\n",
            "comm_round: 1 | global_acc: 90.714% | global_loss: 1.6246594190597534\n",
            "comm_round: 2 | global_acc: 91.881% | global_loss: 1.60403311252594\n",
            "comm_round: 3 | global_acc: 92.810% | global_loss: 1.5902385711669922\n",
            "comm_round: 4 | global_acc: 93.357% | global_loss: 1.58234441280365\n",
            "comm_round: 5 | global_acc: 93.619% | global_loss: 1.5753751993179321\n",
            "comm_round: 6 | global_acc: 93.952% | global_loss: 1.5676215887069702\n",
            "comm_round: 7 | global_acc: 94.143% | global_loss: 1.563452959060669\n",
            "comm_round: 8 | global_acc: 94.381% | global_loss: 1.5594509840011597\n",
            "comm_round: 9 | global_acc: 94.571% | global_loss: 1.555127501487732\n",
            "comm_round: 10 | global_acc: 94.952% | global_loss: 1.551578402519226\n",
            "comm_round: 11 | global_acc: 95.000% | global_loss: 1.5489455461502075\n",
            "comm_round: 12 | global_acc: 95.024% | global_loss: 1.546693205833435\n",
            "comm_round: 13 | global_acc: 95.143% | global_loss: 1.544580340385437\n",
            "comm_round: 14 | global_acc: 95.310% | global_loss: 1.5428757667541504\n",
            "comm_round: 15 | global_acc: 95.429% | global_loss: 1.5411450862884521\n",
            "comm_round: 16 | global_acc: 95.381% | global_loss: 1.5393503904342651\n",
            "comm_round: 17 | global_acc: 95.571% | global_loss: 1.537445068359375\n",
            "comm_round: 18 | global_acc: 95.738% | global_loss: 1.5366910696029663\n",
            "comm_round: 19 | global_acc: 95.667% | global_loss: 1.5358529090881348\n",
            "comm_round: 20 | global_acc: 95.762% | global_loss: 1.5342382192611694\n",
            "comm_round: 21 | global_acc: 95.786% | global_loss: 1.5331660509109497\n",
            "comm_round: 22 | global_acc: 95.905% | global_loss: 1.531925916671753\n",
            "comm_round: 23 | global_acc: 95.976% | global_loss: 1.5310351848602295\n",
            "comm_round: 24 | global_acc: 96.071% | global_loss: 1.5305190086364746\n",
            "comm_round: 25 | global_acc: 96.024% | global_loss: 1.5297818183898926\n",
            "comm_round: 26 | global_acc: 96.095% | global_loss: 1.5289771556854248\n",
            "comm_round: 27 | global_acc: 96.071% | global_loss: 1.5280284881591797\n",
            "comm_round: 28 | global_acc: 95.976% | global_loss: 1.5271258354187012\n",
            "comm_round: 29 | global_acc: 96.167% | global_loss: 1.5266941785812378\n",
            "comm_round: 30 | global_acc: 96.190% | global_loss: 1.5259428024291992\n",
            "comm_round: 31 | global_acc: 96.143% | global_loss: 1.5253599882125854\n",
            "comm_round: 32 | global_acc: 96.190% | global_loss: 1.5249769687652588\n",
            "comm_round: 33 | global_acc: 96.286% | global_loss: 1.5240336656570435\n",
            "comm_round: 34 | global_acc: 96.190% | global_loss: 1.5238189697265625\n",
            "comm_round: 35 | global_acc: 96.357% | global_loss: 1.5233677625656128\n",
            "comm_round: 36 | global_acc: 96.310% | global_loss: 1.5227248668670654\n",
            "comm_round: 37 | global_acc: 96.381% | global_loss: 1.5224099159240723\n",
            "comm_round: 38 | global_acc: 96.405% | global_loss: 1.5217652320861816\n",
            "comm_round: 39 | global_acc: 96.381% | global_loss: 1.5214043855667114\n",
            "comm_round: 40 | global_acc: 96.357% | global_loss: 1.5210870504379272\n",
            "comm_round: 41 | global_acc: 96.452% | global_loss: 1.5205748081207275\n",
            "comm_round: 42 | global_acc: 96.476% | global_loss: 1.520216941833496\n",
            "comm_round: 43 | global_acc: 96.310% | global_loss: 1.5202425718307495\n",
            "comm_round: 44 | global_acc: 96.452% | global_loss: 1.5195274353027344\n",
            "comm_round: 45 | global_acc: 96.548% | global_loss: 1.51934814453125\n",
            "comm_round: 46 | global_acc: 96.548% | global_loss: 1.5186851024627686\n",
            "comm_round: 47 | global_acc: 96.619% | global_loss: 1.5186525583267212\n",
            "comm_round: 48 | global_acc: 96.500% | global_loss: 1.5185658931732178\n",
            "comm_round: 49 | global_acc: 96.524% | global_loss: 1.5179927349090576\n",
            "comm_round: 50 | global_acc: 96.476% | global_loss: 1.5176829099655151\n",
            "comm_round: 51 | global_acc: 96.619% | global_loss: 1.517209768295288\n",
            "comm_round: 52 | global_acc: 96.571% | global_loss: 1.5170516967773438\n",
            "comm_round: 53 | global_acc: 96.690% | global_loss: 1.5168240070343018\n",
            "comm_round: 54 | global_acc: 96.714% | global_loss: 1.516663908958435\n",
            "comm_round: 55 | global_acc: 96.643% | global_loss: 1.5165808200836182\n",
            "comm_round: 56 | global_acc: 96.762% | global_loss: 1.5161575078964233\n",
            "comm_round: 57 | global_acc: 96.714% | global_loss: 1.5159265995025635\n",
            "comm_round: 58 | global_acc: 96.690% | global_loss: 1.515638828277588\n",
            "comm_round: 59 | global_acc: 96.690% | global_loss: 1.515387773513794\n",
            "comm_round: 60 | global_acc: 96.786% | global_loss: 1.5150295495986938\n",
            "comm_round: 61 | global_acc: 96.738% | global_loss: 1.5148800611495972\n",
            "comm_round: 62 | global_acc: 96.762% | global_loss: 1.5146300792694092\n",
            "comm_round: 63 | global_acc: 96.738% | global_loss: 1.5144916772842407\n",
            "comm_round: 64 | global_acc: 96.881% | global_loss: 1.5142019987106323\n",
            "comm_round: 65 | global_acc: 96.690% | global_loss: 1.513987421989441\n",
            "comm_round: 66 | global_acc: 96.810% | global_loss: 1.5138949155807495\n",
            "comm_round: 67 | global_acc: 96.833% | global_loss: 1.513688564300537\n",
            "comm_round: 68 | global_acc: 96.881% | global_loss: 1.513477087020874\n",
            "comm_round: 69 | global_acc: 96.881% | global_loss: 1.5134059190750122\n",
            "comm_round: 70 | global_acc: 96.762% | global_loss: 1.5133625268936157\n",
            "comm_round: 71 | global_acc: 96.833% | global_loss: 1.512892484664917\n",
            "comm_round: 72 | global_acc: 96.881% | global_loss: 1.512792706489563\n",
            "comm_round: 73 | global_acc: 96.881% | global_loss: 1.512662649154663\n",
            "comm_round: 74 | global_acc: 96.857% | global_loss: 1.512394666671753\n",
            "comm_round: 75 | global_acc: 96.881% | global_loss: 1.5122827291488647\n",
            "comm_round: 76 | global_acc: 96.929% | global_loss: 1.5121142864227295\n",
            "comm_round: 77 | global_acc: 96.976% | global_loss: 1.5120482444763184\n",
            "comm_round: 78 | global_acc: 96.905% | global_loss: 1.511867880821228\n",
            "comm_round: 79 | global_acc: 96.929% | global_loss: 1.5117363929748535\n",
            "comm_round: 80 | global_acc: 96.905% | global_loss: 1.5114918947219849\n",
            "comm_round: 81 | global_acc: 96.833% | global_loss: 1.5113530158996582\n",
            "comm_round: 82 | global_acc: 96.905% | global_loss: 1.5111587047576904\n",
            "comm_round: 83 | global_acc: 96.857% | global_loss: 1.5110200643539429\n",
            "comm_round: 84 | global_acc: 97.000% | global_loss: 1.5109425783157349\n",
            "comm_round: 85 | global_acc: 96.929% | global_loss: 1.5108938217163086\n",
            "comm_round: 86 | global_acc: 96.929% | global_loss: 1.5106335878372192\n",
            "comm_round: 87 | global_acc: 96.905% | global_loss: 1.5105966329574585\n",
            "comm_round: 88 | global_acc: 96.929% | global_loss: 1.5104875564575195\n",
            "comm_round: 89 | global_acc: 96.881% | global_loss: 1.5104087591171265\n",
            "comm_round: 90 | global_acc: 96.976% | global_loss: 1.5102553367614746\n",
            "comm_round: 91 | global_acc: 96.976% | global_loss: 1.5101227760314941\n",
            "comm_round: 92 | global_acc: 96.857% | global_loss: 1.5100932121276855\n",
            "comm_round: 93 | global_acc: 97.000% | global_loss: 1.5098515748977661\n",
            "comm_round: 94 | global_acc: 97.000% | global_loss: 1.5098130702972412\n",
            "comm_round: 95 | global_acc: 97.000% | global_loss: 1.5097358226776123\n",
            "comm_round: 96 | global_acc: 97.000% | global_loss: 1.5096158981323242\n",
            "comm_round: 97 | global_acc: 96.976% | global_loss: 1.5094300508499146\n",
            "comm_round: 98 | global_acc: 97.000% | global_loss: 1.5093387365341187\n",
            "comm_round: 99 | global_acc: 96.952% | global_loss: 1.5092580318450928\n"
          ]
        }
      ]
    },
    {
      "cell_type": "code",
      "metadata": {
        "id": "rgEWPJvQwcMk"
      },
      "source": [
        ""
      ],
      "execution_count": null,
      "outputs": []
    }
  ]
}